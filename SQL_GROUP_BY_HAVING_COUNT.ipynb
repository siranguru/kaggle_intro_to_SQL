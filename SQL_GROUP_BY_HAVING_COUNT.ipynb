{
 "cells": [
  {
   "cell_type": "markdown",
   "id": "5050d4a9",
   "metadata": {
    "papermill": {
     "duration": 0.004585,
     "end_time": "2024-09-29T12:50:46.306936",
     "exception": false,
     "start_time": "2024-09-29T12:50:46.302351",
     "status": "completed"
    },
    "tags": []
   },
   "source": [
    "**This notebook is an exercise in the [SQL](https://www.kaggle.com/learn/intro-to-sql) course.  You can reference the tutorial at [this link](https://www.kaggle.com/dansbecker/group-by-having-count).**\n",
    "\n",
    "---\n"
   ]
  },
  {
   "cell_type": "markdown",
   "id": "70446d15",
   "metadata": {
    "papermill": {
     "duration": 0.003573,
     "end_time": "2024-09-29T12:50:46.314671",
     "exception": false,
     "start_time": "2024-09-29T12:50:46.311098",
     "status": "completed"
    },
    "tags": []
   },
   "source": [
    "# Introduction\n",
    "\n",
    "Queries with **GROUP BY** can be powerful. There are many small things that can trip you up (like the order of the clauses), but it will start to feel natural once you've done it a few times. Here, you'll write queries using **GROUP BY** to answer questions from the Hacker News dataset.\n",
    "\n",
    "Before you get started, run the following cell to set everything up:"
   ]
  },
  {
   "cell_type": "code",
   "execution_count": 1,
   "id": "ed28c016",
   "metadata": {
    "execution": {
     "iopub.execute_input": "2024-09-29T12:50:46.323982Z",
     "iopub.status.busy": "2024-09-29T12:50:46.323575Z",
     "iopub.status.idle": "2024-09-29T12:50:54.830858Z",
     "shell.execute_reply": "2024-09-29T12:50:54.829762Z"
    },
    "papermill": {
     "duration": 8.51447,
     "end_time": "2024-09-29T12:50:54.833046",
     "exception": false,
     "start_time": "2024-09-29T12:50:46.318576",
     "status": "completed"
    },
    "tags": []
   },
   "outputs": [
    {
     "name": "stdout",
     "output_type": "stream",
     "text": [
      "Using Kaggle's public dataset BigQuery integration.\n",
      "Setup Complete\n"
     ]
    }
   ],
   "source": [
    "# Set up feedback system\n",
    "from learntools.core import binder\n",
    "binder.bind(globals())\n",
    "from learntools.sql.ex3 import *\n",
    "print(\"Setup Complete\")"
   ]
  },
  {
   "cell_type": "markdown",
   "id": "8b166ef3",
   "metadata": {
    "papermill": {
     "duration": 0.004117,
     "end_time": "2024-09-29T12:50:54.841215",
     "exception": false,
     "start_time": "2024-09-29T12:50:54.837098",
     "status": "completed"
    },
    "tags": []
   },
   "source": [
    "The code cell below fetches the `full` table from the `hacker_news` dataset.  We also preview the first five rows of the table."
   ]
  },
  {
   "cell_type": "code",
   "execution_count": 2,
   "id": "af49f86f",
   "metadata": {
    "execution": {
     "iopub.execute_input": "2024-09-29T12:50:54.851974Z",
     "iopub.status.busy": "2024-09-29T12:50:54.850857Z",
     "iopub.status.idle": "2024-09-29T12:50:56.156670Z",
     "shell.execute_reply": "2024-09-29T12:50:56.155564Z"
    },
    "papermill": {
     "duration": 1.313672,
     "end_time": "2024-09-29T12:50:56.159102",
     "exception": false,
     "start_time": "2024-09-29T12:50:54.845430",
     "status": "completed"
    },
    "tags": []
   },
   "outputs": [
    {
     "name": "stdout",
     "output_type": "stream",
     "text": [
      "Using Kaggle's public dataset BigQuery integration.\n"
     ]
    },
    {
     "data": {
      "text/html": [
       "<div>\n",
       "<style scoped>\n",
       "    .dataframe tbody tr th:only-of-type {\n",
       "        vertical-align: middle;\n",
       "    }\n",
       "\n",
       "    .dataframe tbody tr th {\n",
       "        vertical-align: top;\n",
       "    }\n",
       "\n",
       "    .dataframe thead th {\n",
       "        text-align: right;\n",
       "    }\n",
       "</style>\n",
       "<table border=\"1\" class=\"dataframe\">\n",
       "  <thead>\n",
       "    <tr style=\"text-align: right;\">\n",
       "      <th></th>\n",
       "      <th>title</th>\n",
       "      <th>url</th>\n",
       "      <th>text</th>\n",
       "      <th>dead</th>\n",
       "      <th>by</th>\n",
       "      <th>score</th>\n",
       "      <th>time</th>\n",
       "      <th>timestamp</th>\n",
       "      <th>type</th>\n",
       "      <th>id</th>\n",
       "      <th>parent</th>\n",
       "      <th>descendants</th>\n",
       "      <th>ranking</th>\n",
       "      <th>deleted</th>\n",
       "    </tr>\n",
       "  </thead>\n",
       "  <tbody>\n",
       "    <tr>\n",
       "      <th>0</th>\n",
       "      <td>None</td>\n",
       "      <td>None</td>\n",
       "      <td>None</td>\n",
       "      <td>True</td>\n",
       "      <td>None</td>\n",
       "      <td>NaN</td>\n",
       "      <td>1.426202e+09</td>\n",
       "      <td>2015-03-12 23:11:52+00:00</td>\n",
       "      <td>story</td>\n",
       "      <td>9194624</td>\n",
       "      <td>NaN</td>\n",
       "      <td>NaN</td>\n",
       "      <td>NaN</td>\n",
       "      <td>True</td>\n",
       "    </tr>\n",
       "    <tr>\n",
       "      <th>1</th>\n",
       "      <td>None</td>\n",
       "      <td>None</td>\n",
       "      <td>None</td>\n",
       "      <td>None</td>\n",
       "      <td>None</td>\n",
       "      <td>NaN</td>\n",
       "      <td>NaN</td>\n",
       "      <td>NaT</td>\n",
       "      <td>story</td>\n",
       "      <td>9194767</td>\n",
       "      <td>NaN</td>\n",
       "      <td>NaN</td>\n",
       "      <td>NaN</td>\n",
       "      <td>None</td>\n",
       "    </tr>\n",
       "    <tr>\n",
       "      <th>2</th>\n",
       "      <td>None</td>\n",
       "      <td>None</td>\n",
       "      <td>None</td>\n",
       "      <td>None</td>\n",
       "      <td>None</td>\n",
       "      <td>NaN</td>\n",
       "      <td>1.426204e+09</td>\n",
       "      <td>2015-03-12 23:49:19+00:00</td>\n",
       "      <td>story</td>\n",
       "      <td>9194811</td>\n",
       "      <td>NaN</td>\n",
       "      <td>NaN</td>\n",
       "      <td>NaN</td>\n",
       "      <td>True</td>\n",
       "    </tr>\n",
       "    <tr>\n",
       "      <th>3</th>\n",
       "      <td>None</td>\n",
       "      <td>None</td>\n",
       "      <td>None</td>\n",
       "      <td>None</td>\n",
       "      <td>None</td>\n",
       "      <td>NaN</td>\n",
       "      <td>1.426204e+09</td>\n",
       "      <td>2015-03-12 23:51:47+00:00</td>\n",
       "      <td>story</td>\n",
       "      <td>9194820</td>\n",
       "      <td>NaN</td>\n",
       "      <td>NaN</td>\n",
       "      <td>NaN</td>\n",
       "      <td>True</td>\n",
       "    </tr>\n",
       "    <tr>\n",
       "      <th>4</th>\n",
       "      <td>None</td>\n",
       "      <td>None</td>\n",
       "      <td>None</td>\n",
       "      <td>None</td>\n",
       "      <td>None</td>\n",
       "      <td>NaN</td>\n",
       "      <td>NaN</td>\n",
       "      <td>NaT</td>\n",
       "      <td>story</td>\n",
       "      <td>9194827</td>\n",
       "      <td>NaN</td>\n",
       "      <td>NaN</td>\n",
       "      <td>NaN</td>\n",
       "      <td>None</td>\n",
       "    </tr>\n",
       "  </tbody>\n",
       "</table>\n",
       "</div>"
      ],
      "text/plain": [
       "  title   url  text  dead    by  score          time  \\\n",
       "0  None  None  None  True  None    NaN  1.426202e+09   \n",
       "1  None  None  None  None  None    NaN           NaN   \n",
       "2  None  None  None  None  None    NaN  1.426204e+09   \n",
       "3  None  None  None  None  None    NaN  1.426204e+09   \n",
       "4  None  None  None  None  None    NaN           NaN   \n",
       "\n",
       "                  timestamp   type       id  parent  descendants  ranking  \\\n",
       "0 2015-03-12 23:11:52+00:00  story  9194624     NaN          NaN      NaN   \n",
       "1                       NaT  story  9194767     NaN          NaN      NaN   \n",
       "2 2015-03-12 23:49:19+00:00  story  9194811     NaN          NaN      NaN   \n",
       "3 2015-03-12 23:51:47+00:00  story  9194820     NaN          NaN      NaN   \n",
       "4                       NaT  story  9194827     NaN          NaN      NaN   \n",
       "\n",
       "  deleted  \n",
       "0    True  \n",
       "1    None  \n",
       "2    True  \n",
       "3    True  \n",
       "4    None  "
      ]
     },
     "execution_count": 2,
     "metadata": {},
     "output_type": "execute_result"
    }
   ],
   "source": [
    "from google.cloud import bigquery\n",
    "\n",
    "# Create a \"Client\" object\n",
    "client = bigquery.Client()\n",
    "\n",
    "# Construct a reference to the \"hacker_news\" dataset\n",
    "dataset_ref = client.dataset(\"hacker_news\", project=\"bigquery-public-data\")\n",
    "\n",
    "# API request - fetch the dataset\n",
    "dataset = client.get_dataset(dataset_ref)\n",
    "\n",
    "# Construct a reference to the \"full\" table\n",
    "table_ref = dataset_ref.table(\"full\")\n",
    "\n",
    "# API request - fetch the table\n",
    "table = client.get_table(table_ref)\n",
    "\n",
    "# Preview the first five lines of the table\n",
    "client.list_rows(table, max_results=5).to_dataframe()"
   ]
  },
  {
   "cell_type": "markdown",
   "id": "c6a054a2",
   "metadata": {
    "papermill": {
     "duration": 0.004223,
     "end_time": "2024-09-29T12:50:56.167825",
     "exception": false,
     "start_time": "2024-09-29T12:50:56.163602",
     "status": "completed"
    },
    "tags": []
   },
   "source": [
    "# Exercises\n",
    "\n",
    "### 1) Prolific commenters\n",
    "\n",
    "Hacker News would like to send awards to everyone who has written more than 10,000 posts. Write a query that returns all authors with more than 10,000 posts as well as their post counts. Call the column with post counts `NumPosts`.\n",
    "\n",
    "In case sample query is helpful, here is a query you saw in the tutorial to answer a similar question:\n",
    "```\n",
    "query = \"\"\"\n",
    "        SELECT parent, COUNT(1) AS NumPosts\n",
    "        FROM `bigquery-public-data.hacker_news.full`\n",
    "        GROUP BY parent\n",
    "        HAVING COUNT(1) > 10\n",
    "        \"\"\"\n",
    "```"
   ]
  },
  {
   "cell_type": "code",
   "execution_count": 3,
   "id": "db548a44",
   "metadata": {
    "execution": {
     "iopub.execute_input": "2024-09-29T12:50:56.178725Z",
     "iopub.status.busy": "2024-09-29T12:50:56.178303Z",
     "iopub.status.idle": "2024-09-29T12:50:58.572158Z",
     "shell.execute_reply": "2024-09-29T12:50:58.571267Z"
    },
    "papermill": {
     "duration": 2.401989,
     "end_time": "2024-09-29T12:50:58.574514",
     "exception": false,
     "start_time": "2024-09-29T12:50:56.172525",
     "status": "completed"
    },
    "tags": []
   },
   "outputs": [
    {
     "name": "stdout",
     "output_type": "stream",
     "text": [
      "       author  NumPosts\n",
      "0         eru     23357\n",
      "1  tokenadult     11000\n",
      "2    viraptor     14634\n",
      "3      kragen     14713\n",
      "4    brudgers     20791\n"
     ]
    },
    {
     "data": {
      "application/javascript": [
       "parent.postMessage({\"jupyterEvent\": \"custom.exercise_interaction\", \"data\": {\"outcomeType\": 1, \"valueTowardsCompletion\": 0.5, \"interactionType\": 1, \"questionType\": 2, \"questionId\": \"1_ProlificCommenters\", \"learnToolsVersion\": \"0.3.4\", \"failureMessage\": \"\", \"exceptionClass\": \"\", \"trace\": \"\"}}, \"*\")"
      ],
      "text/plain": [
       "<IPython.core.display.Javascript object>"
      ]
     },
     "metadata": {},
     "output_type": "display_data"
    },
    {
     "data": {
      "text/markdown": [
       "<span style=\"color:#33cc33\">Correct</span>"
      ],
      "text/plain": [
       "Correct"
      ]
     },
     "metadata": {},
     "output_type": "display_data"
    }
   ],
   "source": [
    "# Query to select prolific commenters and post counts\n",
    "prolific_commenters_query = \"\"\"SELECT `by` AS author, COUNT(1) AS NumPosts\n",
    "                                FROM  `bigquery-public-data.hacker_news.full`\n",
    "                                GROUP BY `by` \n",
    "                                HAVING COUNT(1)>10000\"\"\" # Your code goes here\n",
    "\n",
    "# Set up the query (cancel the query if it would use too much of \n",
    "# your quota, with the limit set to 1 GB)\n",
    "safe_config = bigquery.QueryJobConfig(maximum_bytes_billed=10**10)\n",
    "query_job = client.query(prolific_commenters_query, job_config=safe_config)\n",
    "\n",
    "# API request - run the query, and return a pandas DataFrame\n",
    "prolific_commenters = query_job.to_dataframe()\n",
    "\n",
    "# View top few rows of results\n",
    "print(prolific_commenters.head())\n",
    "\n",
    "# Check your answer\n",
    "q_1.check()"
   ]
  },
  {
   "cell_type": "markdown",
   "id": "d990efee",
   "metadata": {
    "papermill": {
     "duration": 0.004388,
     "end_time": "2024-09-29T12:50:58.583630",
     "exception": false,
     "start_time": "2024-09-29T12:50:58.579242",
     "status": "completed"
    },
    "tags": []
   },
   "source": [
    "For the solution, uncomment the line below."
   ]
  },
  {
   "cell_type": "code",
   "execution_count": 4,
   "id": "71bb3051",
   "metadata": {
    "execution": {
     "iopub.execute_input": "2024-09-29T12:50:58.595330Z",
     "iopub.status.busy": "2024-09-29T12:50:58.594910Z",
     "iopub.status.idle": "2024-09-29T12:50:58.603765Z",
     "shell.execute_reply": "2024-09-29T12:50:58.602795Z"
    },
    "papermill": {
     "duration": 0.01757,
     "end_time": "2024-09-29T12:50:58.606240",
     "exception": false,
     "start_time": "2024-09-29T12:50:58.588670",
     "status": "completed"
    },
    "tags": []
   },
   "outputs": [
    {
     "data": {
      "application/javascript": [
       "parent.postMessage({\"jupyterEvent\": \"custom.exercise_interaction\", \"data\": {\"interactionType\": 3, \"questionType\": 2, \"questionId\": \"1_ProlificCommenters\", \"learnToolsVersion\": \"0.3.4\", \"valueTowardsCompletion\": 0.0, \"failureMessage\": \"\", \"exceptionClass\": \"\", \"trace\": \"\", \"outcomeType\": 4}}, \"*\")"
      ],
      "text/plain": [
       "<IPython.core.display.Javascript object>"
      ]
     },
     "metadata": {},
     "output_type": "display_data"
    },
    {
     "data": {
      "text/markdown": [
       "<span style=\"color:#33cc99\">Solution:</span> \n",
       "```python\n",
       "\n",
       "prolific_commenters_query = \"\"\"\n",
       "                            SELECT `by` AS author, COUNT(1) AS NumPosts\n",
       "                            FROM `bigquery-public-data.hacker_news.full`\n",
       "                            GROUP BY author\n",
       "                            HAVING COUNT(1) > 10000\n",
       "                            \"\"\"\n",
       "\n",
       "```"
      ],
      "text/plain": [
       "Solution: \n",
       "```python\n",
       "\n",
       "prolific_commenters_query = \"\"\"\n",
       "                            SELECT `by` AS author, COUNT(1) AS NumPosts\n",
       "                            FROM `bigquery-public-data.hacker_news.full`\n",
       "                            GROUP BY author\n",
       "                            HAVING COUNT(1) > 10000\n",
       "                            \"\"\"\n",
       "\n",
       "```"
      ]
     },
     "metadata": {},
     "output_type": "display_data"
    }
   ],
   "source": [
    "q_1.solution()"
   ]
  },
  {
   "cell_type": "markdown",
   "id": "166673d8",
   "metadata": {
    "papermill": {
     "duration": 0.004619,
     "end_time": "2024-09-29T12:50:58.615873",
     "exception": false,
     "start_time": "2024-09-29T12:50:58.611254",
     "status": "completed"
    },
    "tags": []
   },
   "source": [
    "### 2) Deleted comments\n",
    "\n",
    "How many comments have been deleted? (If a comment was deleted, the `deleted` column in the table will have the value `True`.)"
   ]
  },
  {
   "cell_type": "code",
   "execution_count": 5,
   "id": "363249e9",
   "metadata": {
    "execution": {
     "iopub.execute_input": "2024-09-29T12:50:58.628128Z",
     "iopub.status.busy": "2024-09-29T12:50:58.627742Z",
     "iopub.status.idle": "2024-09-29T12:51:00.604899Z",
     "shell.execute_reply": "2024-09-29T12:51:00.603510Z"
    },
    "papermill": {
     "duration": 1.985662,
     "end_time": "2024-09-29T12:51:00.607329",
     "exception": false,
     "start_time": "2024-09-29T12:50:58.621667",
     "status": "completed"
    },
    "tags": []
   },
   "outputs": [
    {
     "name": "stdout",
     "output_type": "stream",
     "text": [
      "  deleted    NumDel\n",
      "0    True   1213659\n",
      "1    None  40232196\n"
     ]
    }
   ],
   "source": [
    "# Write your query here and figure out the answer\n",
    "# Query to select prolific commenters and post counts\n",
    "del_count_query = \"\"\"SELECT deleted, SUM(1) AS NumDel\n",
    "                                FROM  `bigquery-public-data.hacker_news.full`\n",
    "                                GROUP BY deleted\"\"\" # Your code goes here\n",
    "\n",
    "# Set up the query (cancel the query if it would use too much of \n",
    "# your quota, with the limit set to 1 GB)\n",
    "safe_config = bigquery.QueryJobConfig(maximum_bytes_billed=10**10)\n",
    "query_job = client.query(del_count_query, job_config=safe_config)\n",
    "\n",
    "# API request - run the query, and return a pandas DataFrame\n",
    "del_count = query_job.to_dataframe()\n",
    "\n",
    "# View top few rows of results\n",
    "print(del_count.head())"
   ]
  },
  {
   "cell_type": "code",
   "execution_count": 6,
   "id": "e56f42a2",
   "metadata": {
    "execution": {
     "iopub.execute_input": "2024-09-29T12:51:00.619288Z",
     "iopub.status.busy": "2024-09-29T12:51:00.618584Z",
     "iopub.status.idle": "2024-09-29T12:51:00.626833Z",
     "shell.execute_reply": "2024-09-29T12:51:00.625895Z"
    },
    "papermill": {
     "duration": 0.016466,
     "end_time": "2024-09-29T12:51:00.628873",
     "exception": false,
     "start_time": "2024-09-29T12:51:00.612407",
     "status": "completed"
    },
    "tags": []
   },
   "outputs": [
    {
     "data": {
      "application/javascript": [
       "parent.postMessage({\"jupyterEvent\": \"custom.exercise_interaction\", \"data\": {\"outcomeType\": 2, \"failureMessage\": \"Incorrect value for `num_deleted_posts`: `1209391`\", \"interactionType\": 1, \"questionType\": 1, \"questionId\": \"2_NumDeletedPosts\", \"learnToolsVersion\": \"0.3.4\", \"valueTowardsCompletion\": 0.0, \"exceptionClass\": \"\", \"trace\": \"\"}}, \"*\")"
      ],
      "text/plain": [
       "<IPython.core.display.Javascript object>"
      ]
     },
     "metadata": {},
     "output_type": "display_data"
    },
    {
     "data": {
      "text/markdown": [
       "<span style=\"color:#cc3333\">Incorrect:</span> Incorrect value for `num_deleted_posts`: `1209391`"
      ],
      "text/plain": [
       "Incorrect: Incorrect value for `num_deleted_posts`: `1209391`"
      ]
     },
     "metadata": {},
     "output_type": "display_data"
    }
   ],
   "source": [
    "num_deleted_posts = 1209391 # Put your answer here\n",
    "\n",
    "# Check your answer\n",
    "q_2.check()"
   ]
  },
  {
   "cell_type": "markdown",
   "id": "732e8d33",
   "metadata": {
    "papermill": {
     "duration": 0.004972,
     "end_time": "2024-09-29T12:51:00.639295",
     "exception": false,
     "start_time": "2024-09-29T12:51:00.634323",
     "status": "completed"
    },
    "tags": []
   },
   "source": [
    "For the solution, uncomment the line below."
   ]
  },
  {
   "cell_type": "code",
   "execution_count": 7,
   "id": "039721d7",
   "metadata": {
    "execution": {
     "iopub.execute_input": "2024-09-29T12:51:00.651376Z",
     "iopub.status.busy": "2024-09-29T12:51:00.650974Z",
     "iopub.status.idle": "2024-09-29T12:51:00.659293Z",
     "shell.execute_reply": "2024-09-29T12:51:00.658340Z"
    },
    "papermill": {
     "duration": 0.016787,
     "end_time": "2024-09-29T12:51:00.661357",
     "exception": false,
     "start_time": "2024-09-29T12:51:00.644570",
     "status": "completed"
    },
    "tags": []
   },
   "outputs": [
    {
     "data": {
      "application/javascript": [
       "parent.postMessage({\"jupyterEvent\": \"custom.exercise_interaction\", \"data\": {\"interactionType\": 3, \"questionType\": 1, \"questionId\": \"2_NumDeletedPosts\", \"learnToolsVersion\": \"0.3.4\", \"valueTowardsCompletion\": 0.0, \"failureMessage\": \"\", \"exceptionClass\": \"\", \"trace\": \"\", \"outcomeType\": 4}}, \"*\")"
      ],
      "text/plain": [
       "<IPython.core.display.Javascript object>"
      ]
     },
     "metadata": {},
     "output_type": "display_data"
    },
    {
     "data": {
      "text/markdown": [
       "<span style=\"color:#33cc99\">Solution:</span> \n",
       "```python\n",
       "\n",
       "# Query to determine how many posts were deleted\n",
       "deleted_posts_query = \"\"\"\n",
       "                      SELECT COUNT(1) AS num_deleted_posts\n",
       "                      FROM `bigquery-public-data.hacker_news.full`\n",
       "                      WHERE deleted = True\n",
       "                      \"\"\"\n",
       "                      \n",
       "# Set up the query\n",
       "query_job = client.query(deleted_posts_query)\n",
       "\n",
       "# API request - run the query, and return a pandas DataFrame\n",
       "deleted_posts = query_job.to_dataframe()\n",
       "\n",
       "# View results\n",
       "print(deleted_posts)\n",
       "\n",
       "num_deleted_posts = 1213659\n",
       "\n",
       "```"
      ],
      "text/plain": [
       "Solution: \n",
       "```python\n",
       "\n",
       "# Query to determine how many posts were deleted\n",
       "deleted_posts_query = \"\"\"\n",
       "                      SELECT COUNT(1) AS num_deleted_posts\n",
       "                      FROM `bigquery-public-data.hacker_news.full`\n",
       "                      WHERE deleted = True\n",
       "                      \"\"\"\n",
       "                      \n",
       "# Set up the query\n",
       "query_job = client.query(deleted_posts_query)\n",
       "\n",
       "# API request - run the query, and return a pandas DataFrame\n",
       "deleted_posts = query_job.to_dataframe()\n",
       "\n",
       "# View results\n",
       "print(deleted_posts)\n",
       "\n",
       "num_deleted_posts = 1213659\n",
       "\n",
       "```"
      ]
     },
     "metadata": {},
     "output_type": "display_data"
    }
   ],
   "source": [
    "q_2.solution()"
   ]
  },
  {
   "cell_type": "markdown",
   "id": "b86c4663",
   "metadata": {
    "papermill": {
     "duration": 0.005265,
     "end_time": "2024-09-29T12:51:00.672271",
     "exception": false,
     "start_time": "2024-09-29T12:51:00.667006",
     "status": "completed"
    },
    "tags": []
   },
   "source": [
    "# Keep Going\n",
    "**[Click here](https://www.kaggle.com/dansbecker/order-by)** to move on and learn about the **ORDER BY** clause."
   ]
  },
  {
   "cell_type": "markdown",
   "id": "896d3043",
   "metadata": {
    "papermill": {
     "duration": 0.005149,
     "end_time": "2024-09-29T12:51:00.682911",
     "exception": false,
     "start_time": "2024-09-29T12:51:00.677762",
     "status": "completed"
    },
    "tags": []
   },
   "source": [
    "---\n",
    "\n",
    "\n",
    "\n",
    "\n",
    "*Have questions or comments? Visit the [course discussion forum](https://www.kaggle.com/learn/intro-to-sql/discussion) to chat with other learners.*"
   ]
  }
 ],
 "metadata": {
  "kaggle": {
   "accelerator": "none",
   "dataSources": [
    {
     "datasetId": 6057,
     "sourceId": 285982,
     "sourceType": "datasetVersion"
    }
   ],
   "isGpuEnabled": false,
   "isInternetEnabled": false,
   "language": "python",
   "sourceType": "notebook"
  },
  "kernelspec": {
   "display_name": "Python 3",
   "language": "python",
   "name": "python3"
  },
  "language_info": {
   "codemirror_mode": {
    "name": "ipython",
    "version": 3
   },
   "file_extension": ".py",
   "mimetype": "text/x-python",
   "name": "python",
   "nbconvert_exporter": "python",
   "pygments_lexer": "ipython3",
   "version": "3.10.14"
  },
  "papermill": {
   "default_parameters": {},
   "duration": 17.747579,
   "end_time": "2024-09-29T12:51:01.408959",
   "environment_variables": {},
   "exception": null,
   "input_path": "__notebook__.ipynb",
   "output_path": "__notebook__.ipynb",
   "parameters": {},
   "start_time": "2024-09-29T12:50:43.661380",
   "version": "2.6.0"
  }
 },
 "nbformat": 4,
 "nbformat_minor": 5
}
