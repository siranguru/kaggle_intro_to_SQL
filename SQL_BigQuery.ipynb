{
 "cells": [
  {
   "cell_type": "markdown",
   "id": "73934ec0",
   "metadata": {
    "papermill": {
     "duration": 0.008065,
     "end_time": "2024-09-29T12:45:16.376550",
     "exception": false,
     "start_time": "2024-09-29T12:45:16.368485",
     "status": "completed"
    },
    "tags": []
   },
   "source": [
    "**This notebook is an exercise in the [SQL](https://www.kaggle.com/learn/intro-to-sql) course.  You can reference the tutorial at [this link](https://www.kaggle.com/dansbecker/getting-started-with-sql-and-bigquery).**\n",
    "\n",
    "---\n"
   ]
  },
  {
   "cell_type": "markdown",
   "id": "21923fda",
   "metadata": {
    "papermill": {
     "duration": 0.007121,
     "end_time": "2024-09-29T12:45:16.391054",
     "exception": false,
     "start_time": "2024-09-29T12:45:16.383933",
     "status": "completed"
    },
    "tags": []
   },
   "source": [
    "# Introduction\n",
    "\n",
    "The first test of your new data exploration skills uses data describing crime in the city of Chicago.\n",
    "\n",
    "Before you get started, run the following cell. It sets up the automated feedback system to review your answers."
   ]
  },
  {
   "cell_type": "code",
   "execution_count": 1,
   "id": "9e62b623",
   "metadata": {
    "execution": {
     "iopub.execute_input": "2024-09-29T12:45:16.407633Z",
     "iopub.status.busy": "2024-09-29T12:45:16.407154Z",
     "iopub.status.idle": "2024-09-29T12:45:23.967968Z",
     "shell.execute_reply": "2024-09-29T12:45:23.966560Z"
    },
    "papermill": {
     "duration": 7.572195,
     "end_time": "2024-09-29T12:45:23.970586",
     "exception": false,
     "start_time": "2024-09-29T12:45:16.398391",
     "status": "completed"
    },
    "tags": []
   },
   "outputs": [
    {
     "name": "stdout",
     "output_type": "stream",
     "text": [
      "Using Kaggle's public dataset BigQuery integration.\n",
      "Setup Complete\n"
     ]
    }
   ],
   "source": [
    "# Set up feedack system\n",
    "from learntools.core import binder\n",
    "binder.bind(globals())\n",
    "from learntools.sql.ex1 import *\n",
    "print(\"Setup Complete\")"
   ]
  },
  {
   "cell_type": "markdown",
   "id": "43623c08",
   "metadata": {
    "papermill": {
     "duration": 0.007387,
     "end_time": "2024-09-29T12:45:23.986298",
     "exception": false,
     "start_time": "2024-09-29T12:45:23.978911",
     "status": "completed"
    },
    "tags": []
   },
   "source": [
    "Use the next code cell to fetch the dataset."
   ]
  },
  {
   "cell_type": "code",
   "execution_count": 2,
   "id": "99aea543",
   "metadata": {
    "execution": {
     "iopub.execute_input": "2024-09-29T12:45:24.003274Z",
     "iopub.status.busy": "2024-09-29T12:45:24.002647Z",
     "iopub.status.idle": "2024-09-29T12:45:24.460441Z",
     "shell.execute_reply": "2024-09-29T12:45:24.459289Z"
    },
    "papermill": {
     "duration": 0.469937,
     "end_time": "2024-09-29T12:45:24.463578",
     "exception": false,
     "start_time": "2024-09-29T12:45:23.993641",
     "status": "completed"
    },
    "tags": []
   },
   "outputs": [
    {
     "name": "stdout",
     "output_type": "stream",
     "text": [
      "Using Kaggle's public dataset BigQuery integration.\n"
     ]
    }
   ],
   "source": [
    "from google.cloud import bigquery\n",
    "\n",
    "# Create a \"Client\" object\n",
    "client = bigquery.Client()\n",
    "\n",
    "# Construct a reference to the \"chicago_crime\" dataset\n",
    "dataset_ref = client.dataset(\"chicago_crime\", project=\"bigquery-public-data\")\n",
    "\n",
    "# API request - fetch the dataset\n",
    "dataset = client.get_dataset(dataset_ref)"
   ]
  },
  {
   "cell_type": "markdown",
   "id": "8892ce81",
   "metadata": {
    "papermill": {
     "duration": 0.007819,
     "end_time": "2024-09-29T12:45:24.479309",
     "exception": false,
     "start_time": "2024-09-29T12:45:24.471490",
     "status": "completed"
    },
    "tags": []
   },
   "source": [
    "# Exercises\n",
    "\n",
    "### 1) Count tables in the dataset\n",
    "\n",
    "How many tables are in the Chicago Crime dataset?"
   ]
  },
  {
   "cell_type": "code",
   "execution_count": 3,
   "id": "36d86179",
   "metadata": {
    "execution": {
     "iopub.execute_input": "2024-09-29T12:45:24.497531Z",
     "iopub.status.busy": "2024-09-29T12:45:24.497023Z",
     "iopub.status.idle": "2024-09-29T12:45:24.744758Z",
     "shell.execute_reply": "2024-09-29T12:45:24.743474Z"
    },
    "papermill": {
     "duration": 0.260667,
     "end_time": "2024-09-29T12:45:24.747997",
     "exception": false,
     "start_time": "2024-09-29T12:45:24.487330",
     "status": "completed"
    },
    "tags": []
   },
   "outputs": [
    {
     "name": "stdout",
     "output_type": "stream",
     "text": [
      "crime\n"
     ]
    }
   ],
   "source": [
    "# Write the code you need here to figure out the answer\n",
    "tables = list(client.list_tables(dataset))\n",
    "for table in tables:\n",
    "    print(table.table_id)"
   ]
  },
  {
   "cell_type": "code",
   "execution_count": 4,
   "id": "08ed1ded",
   "metadata": {
    "execution": {
     "iopub.execute_input": "2024-09-29T12:45:24.770752Z",
     "iopub.status.busy": "2024-09-29T12:45:24.770302Z",
     "iopub.status.idle": "2024-09-29T12:45:24.782821Z",
     "shell.execute_reply": "2024-09-29T12:45:24.781397Z"
    },
    "papermill": {
     "duration": 0.026754,
     "end_time": "2024-09-29T12:45:24.785492",
     "exception": false,
     "start_time": "2024-09-29T12:45:24.758738",
     "status": "completed"
    },
    "tags": []
   },
   "outputs": [
    {
     "data": {
      "application/javascript": [
       "parent.postMessage({\"jupyterEvent\": \"custom.exercise_interaction\", \"data\": {\"outcomeType\": 1, \"valueTowardsCompletion\": 0.3333333333333333, \"interactionType\": 1, \"questionType\": 1, \"questionId\": \"1_CountTables\", \"learnToolsVersion\": \"0.3.4\", \"failureMessage\": \"\", \"exceptionClass\": \"\", \"trace\": \"\"}}, \"*\")"
      ],
      "text/plain": [
       "<IPython.core.display.Javascript object>"
      ]
     },
     "metadata": {},
     "output_type": "display_data"
    },
    {
     "data": {
      "text/markdown": [
       "<span style=\"color:#33cc33\">Correct</span>"
      ],
      "text/plain": [
       "Correct"
      ]
     },
     "metadata": {},
     "output_type": "display_data"
    }
   ],
   "source": [
    "num_tables = len(tables)  # Store the answer as num_tables and then run this cell\n",
    "\n",
    "# Check your answer\n",
    "q_1.check()"
   ]
  },
  {
   "cell_type": "markdown",
   "id": "fa02d3c8",
   "metadata": {
    "papermill": {
     "duration": 0.007866,
     "end_time": "2024-09-29T12:45:24.801716",
     "exception": false,
     "start_time": "2024-09-29T12:45:24.793850",
     "status": "completed"
    },
    "tags": []
   },
   "source": [
    "For a hint or the solution, uncomment the appropriate line below."
   ]
  },
  {
   "cell_type": "code",
   "execution_count": 5,
   "id": "e46b0eee",
   "metadata": {
    "execution": {
     "iopub.execute_input": "2024-09-29T12:45:24.821948Z",
     "iopub.status.busy": "2024-09-29T12:45:24.820995Z",
     "iopub.status.idle": "2024-09-29T12:45:24.826787Z",
     "shell.execute_reply": "2024-09-29T12:45:24.825516Z"
    },
    "papermill": {
     "duration": 0.019737,
     "end_time": "2024-09-29T12:45:24.829758",
     "exception": false,
     "start_time": "2024-09-29T12:45:24.810021",
     "status": "completed"
    },
    "tags": []
   },
   "outputs": [],
   "source": [
    "#q_1.hint()\n",
    "#q_1.solution()"
   ]
  },
  {
   "cell_type": "markdown",
   "id": "52c8f6c4",
   "metadata": {
    "papermill": {
     "duration": 0.008951,
     "end_time": "2024-09-29T12:45:24.846907",
     "exception": false,
     "start_time": "2024-09-29T12:45:24.837956",
     "status": "completed"
    },
    "tags": []
   },
   "source": [
    "### 2) Explore the table schema\n",
    "\n",
    "How many columns in the `crime` table have `TIMESTAMP` data?"
   ]
  },
  {
   "cell_type": "code",
   "execution_count": 6,
   "id": "85760c3a",
   "metadata": {
    "execution": {
     "iopub.execute_input": "2024-09-29T12:45:24.868335Z",
     "iopub.status.busy": "2024-09-29T12:45:24.866954Z",
     "iopub.status.idle": "2024-09-29T12:45:25.133945Z",
     "shell.execute_reply": "2024-09-29T12:45:25.132644Z"
    },
    "papermill": {
     "duration": 0.281683,
     "end_time": "2024-09-29T12:45:25.136855",
     "exception": false,
     "start_time": "2024-09-29T12:45:24.855172",
     "status": "completed"
    },
    "tags": []
   },
   "outputs": [],
   "source": [
    "# Write the code to figure out the answer\n",
    "table_ref = dataset_ref.table(\"crime\")\n",
    "table = client.get_table(table_ref)\n",
    "time_stamp_count = 0\n",
    "import pandas as pd\n",
    "#a = pd.DataFrame(table.schema)\n",
    "#a\n",
    "#table.schema\n",
    "for i in table.schema:\n",
    "    if i.field_type == 'TIMESTAMP':\n",
    "        time_stamp_count += 1\n"
   ]
  },
  {
   "cell_type": "code",
   "execution_count": 7,
   "id": "9cafb375",
   "metadata": {
    "execution": {
     "iopub.execute_input": "2024-09-29T12:45:25.155596Z",
     "iopub.status.busy": "2024-09-29T12:45:25.154978Z",
     "iopub.status.idle": "2024-09-29T12:45:25.166978Z",
     "shell.execute_reply": "2024-09-29T12:45:25.165616Z"
    },
    "papermill": {
     "duration": 0.024682,
     "end_time": "2024-09-29T12:45:25.169748",
     "exception": false,
     "start_time": "2024-09-29T12:45:25.145066",
     "status": "completed"
    },
    "tags": []
   },
   "outputs": [
    {
     "data": {
      "application/javascript": [
       "parent.postMessage({\"jupyterEvent\": \"custom.exercise_interaction\", \"data\": {\"outcomeType\": 1, \"valueTowardsCompletion\": 0.3333333333333333, \"interactionType\": 1, \"questionType\": 1, \"questionId\": \"2_CountTimestampFields\", \"learnToolsVersion\": \"0.3.4\", \"failureMessage\": \"\", \"exceptionClass\": \"\", \"trace\": \"\"}}, \"*\")"
      ],
      "text/plain": [
       "<IPython.core.display.Javascript object>"
      ]
     },
     "metadata": {},
     "output_type": "display_data"
    },
    {
     "data": {
      "text/markdown": [
       "<span style=\"color:#33cc33\">Correct</span>"
      ],
      "text/plain": [
       "Correct"
      ]
     },
     "metadata": {},
     "output_type": "display_data"
    }
   ],
   "source": [
    "num_timestamp_fields = time_stamp_count # Put your answer here\n",
    "\n",
    "# Check your answer\n",
    "q_2.check()"
   ]
  },
  {
   "cell_type": "markdown",
   "id": "130ece14",
   "metadata": {
    "papermill": {
     "duration": 0.008322,
     "end_time": "2024-09-29T12:45:25.187283",
     "exception": false,
     "start_time": "2024-09-29T12:45:25.178961",
     "status": "completed"
    },
    "tags": []
   },
   "source": [
    "For a hint or the solution, uncomment the appropriate line below."
   ]
  },
  {
   "cell_type": "code",
   "execution_count": 8,
   "id": "c51030eb",
   "metadata": {
    "execution": {
     "iopub.execute_input": "2024-09-29T12:45:25.207568Z",
     "iopub.status.busy": "2024-09-29T12:45:25.206944Z",
     "iopub.status.idle": "2024-09-29T12:45:25.212858Z",
     "shell.execute_reply": "2024-09-29T12:45:25.211631Z"
    },
    "papermill": {
     "duration": 0.019876,
     "end_time": "2024-09-29T12:45:25.215883",
     "exception": false,
     "start_time": "2024-09-29T12:45:25.196007",
     "status": "completed"
    },
    "tags": []
   },
   "outputs": [],
   "source": [
    "#q_2.hint()\n",
    "#q_2.solution()"
   ]
  },
  {
   "cell_type": "markdown",
   "id": "d1cb0931",
   "metadata": {
    "papermill": {
     "duration": 0.008418,
     "end_time": "2024-09-29T12:45:25.232926",
     "exception": false,
     "start_time": "2024-09-29T12:45:25.224508",
     "status": "completed"
    },
    "tags": []
   },
   "source": [
    "### 3) Create a crime map\n",
    "\n",
    "If you wanted to create a map with a dot at the location of each crime, what are the names of the two fields you likely need to pull out of the `crime` table to plot the crimes on a map?"
   ]
  },
  {
   "cell_type": "code",
   "execution_count": 9,
   "id": "afc7666e",
   "metadata": {
    "execution": {
     "iopub.execute_input": "2024-09-29T12:45:25.252540Z",
     "iopub.status.busy": "2024-09-29T12:45:25.251947Z",
     "iopub.status.idle": "2024-09-29T12:45:25.261963Z",
     "shell.execute_reply": "2024-09-29T12:45:25.260561Z"
    },
    "papermill": {
     "duration": 0.022981,
     "end_time": "2024-09-29T12:45:25.264641",
     "exception": false,
     "start_time": "2024-09-29T12:45:25.241660",
     "status": "completed"
    },
    "tags": []
   },
   "outputs": [
    {
     "data": {
      "text/plain": [
       "[SchemaField('unique_key', 'INTEGER', 'REQUIRED', None, (), None),\n",
       " SchemaField('case_number', 'STRING', 'NULLABLE', None, (), None),\n",
       " SchemaField('date', 'TIMESTAMP', 'NULLABLE', None, (), None),\n",
       " SchemaField('block', 'STRING', 'NULLABLE', None, (), None),\n",
       " SchemaField('iucr', 'STRING', 'NULLABLE', None, (), None),\n",
       " SchemaField('primary_type', 'STRING', 'NULLABLE', None, (), None),\n",
       " SchemaField('description', 'STRING', 'NULLABLE', None, (), None),\n",
       " SchemaField('location_description', 'STRING', 'NULLABLE', None, (), None),\n",
       " SchemaField('arrest', 'BOOLEAN', 'NULLABLE', None, (), None),\n",
       " SchemaField('domestic', 'BOOLEAN', 'NULLABLE', None, (), None),\n",
       " SchemaField('beat', 'INTEGER', 'NULLABLE', None, (), None),\n",
       " SchemaField('district', 'INTEGER', 'NULLABLE', None, (), None),\n",
       " SchemaField('ward', 'INTEGER', 'NULLABLE', None, (), None),\n",
       " SchemaField('community_area', 'INTEGER', 'NULLABLE', None, (), None),\n",
       " SchemaField('fbi_code', 'STRING', 'NULLABLE', None, (), None),\n",
       " SchemaField('x_coordinate', 'FLOAT', 'NULLABLE', None, (), None),\n",
       " SchemaField('y_coordinate', 'FLOAT', 'NULLABLE', None, (), None),\n",
       " SchemaField('year', 'INTEGER', 'NULLABLE', None, (), None),\n",
       " SchemaField('updated_on', 'TIMESTAMP', 'NULLABLE', None, (), None),\n",
       " SchemaField('latitude', 'FLOAT', 'NULLABLE', None, (), None),\n",
       " SchemaField('longitude', 'FLOAT', 'NULLABLE', None, (), None),\n",
       " SchemaField('location', 'STRING', 'NULLABLE', None, (), None)]"
      ]
     },
     "execution_count": 9,
     "metadata": {},
     "output_type": "execute_result"
    }
   ],
   "source": [
    "# Write the code here to explore the data so you can find the answer\n",
    "table.schema"
   ]
  },
  {
   "cell_type": "code",
   "execution_count": 10,
   "id": "3d872856",
   "metadata": {
    "execution": {
     "iopub.execute_input": "2024-09-29T12:45:25.286539Z",
     "iopub.status.busy": "2024-09-29T12:45:25.285989Z",
     "iopub.status.idle": "2024-09-29T12:45:25.297811Z",
     "shell.execute_reply": "2024-09-29T12:45:25.296553Z"
    },
    "papermill": {
     "duration": 0.025419,
     "end_time": "2024-09-29T12:45:25.300488",
     "exception": false,
     "start_time": "2024-09-29T12:45:25.275069",
     "status": "completed"
    },
    "tags": []
   },
   "outputs": [
    {
     "data": {
      "application/javascript": [
       "parent.postMessage({\"jupyterEvent\": \"custom.exercise_interaction\", \"data\": {\"outcomeType\": 1, \"valueTowardsCompletion\": 0.3333333333333333, \"interactionType\": 1, \"questionType\": 2, \"questionId\": \"3_IdentifyFieldsForPlotting\", \"learnToolsVersion\": \"0.3.4\", \"failureMessage\": \"\", \"exceptionClass\": \"\", \"trace\": \"\"}}, \"*\")"
      ],
      "text/plain": [
       "<IPython.core.display.Javascript object>"
      ]
     },
     "metadata": {},
     "output_type": "display_data"
    },
    {
     "data": {
      "text/markdown": [
       "<span style=\"color:#33cc33\">Correct</span>"
      ],
      "text/plain": [
       "Correct"
      ]
     },
     "metadata": {},
     "output_type": "display_data"
    }
   ],
   "source": [
    "fields_for_plotting = [\"latitude\", \"longitude\"] # Put your answers here\n",
    "\n",
    "# Check your answer\n",
    "q_3.check()"
   ]
  },
  {
   "cell_type": "markdown",
   "id": "9cf3d230",
   "metadata": {
    "papermill": {
     "duration": 0.008919,
     "end_time": "2024-09-29T12:45:25.319744",
     "exception": false,
     "start_time": "2024-09-29T12:45:25.310825",
     "status": "completed"
    },
    "tags": []
   },
   "source": [
    "For a hint or the solution, uncomment the appropriate line below."
   ]
  },
  {
   "cell_type": "code",
   "execution_count": 11,
   "id": "35081ce6",
   "metadata": {
    "execution": {
     "iopub.execute_input": "2024-09-29T12:45:25.339934Z",
     "iopub.status.busy": "2024-09-29T12:45:25.339388Z",
     "iopub.status.idle": "2024-09-29T12:45:25.345056Z",
     "shell.execute_reply": "2024-09-29T12:45:25.343751Z"
    },
    "papermill": {
     "duration": 0.0189,
     "end_time": "2024-09-29T12:45:25.347731",
     "exception": false,
     "start_time": "2024-09-29T12:45:25.328831",
     "status": "completed"
    },
    "tags": []
   },
   "outputs": [],
   "source": [
    "#q_3.hint()\n",
    "#q_3.solution()"
   ]
  },
  {
   "cell_type": "markdown",
   "id": "37ccbe0f",
   "metadata": {
    "papermill": {
     "duration": 0.00885,
     "end_time": "2024-09-29T12:45:25.366523",
     "exception": false,
     "start_time": "2024-09-29T12:45:25.357673",
     "status": "completed"
    },
    "tags": []
   },
   "source": [
    "Thinking about the question above, there are a few columns that appear to have geographic data. Look at a few values (with the `list_rows()` command) to see if you can determine their relationship.  Two columns will still be hard to interpret. But it should be obvious how the `location` column relates to `latitude` and `longitude`."
   ]
  },
  {
   "cell_type": "code",
   "execution_count": 12,
   "id": "1f57adfe",
   "metadata": {
    "execution": {
     "iopub.execute_input": "2024-09-29T12:45:25.388279Z",
     "iopub.status.busy": "2024-09-29T12:45:25.387729Z",
     "iopub.status.idle": "2024-09-29T12:45:25.936892Z",
     "shell.execute_reply": "2024-09-29T12:45:25.935501Z"
    },
    "papermill": {
     "duration": 0.563257,
     "end_time": "2024-09-29T12:45:25.939846",
     "exception": false,
     "start_time": "2024-09-29T12:45:25.376589",
     "status": "completed"
    },
    "tags": []
   },
   "outputs": [
    {
     "data": {
      "text/html": [
       "<div>\n",
       "<style scoped>\n",
       "    .dataframe tbody tr th:only-of-type {\n",
       "        vertical-align: middle;\n",
       "    }\n",
       "\n",
       "    .dataframe tbody tr th {\n",
       "        vertical-align: top;\n",
       "    }\n",
       "\n",
       "    .dataframe thead th {\n",
       "        text-align: right;\n",
       "    }\n",
       "</style>\n",
       "<table border=\"1\" class=\"dataframe\">\n",
       "  <thead>\n",
       "    <tr style=\"text-align: right;\">\n",
       "      <th></th>\n",
       "      <th>0</th>\n",
       "      <th>1</th>\n",
       "    </tr>\n",
       "  </thead>\n",
       "  <tbody>\n",
       "    <tr>\n",
       "      <th>unique_key</th>\n",
       "      <td>11255648</td>\n",
       "      <td>12751265</td>\n",
       "    </tr>\n",
       "    <tr>\n",
       "      <th>case_number</th>\n",
       "      <td>JB184373</td>\n",
       "      <td>JF305556</td>\n",
       "    </tr>\n",
       "    <tr>\n",
       "      <th>date</th>\n",
       "      <td>2017-04-04 00:00:00+00:00</td>\n",
       "      <td>2022-07-04 20:00:00+00:00</td>\n",
       "    </tr>\n",
       "    <tr>\n",
       "      <th>block</th>\n",
       "      <td>003XX N MICHIGAN AVE</td>\n",
       "      <td>002XX N STATE ST</td>\n",
       "    </tr>\n",
       "    <tr>\n",
       "      <th>iucr</th>\n",
       "      <td>0266</td>\n",
       "      <td>0281</td>\n",
       "    </tr>\n",
       "    <tr>\n",
       "      <th>primary_type</th>\n",
       "      <td>CRIM SEXUAL ASSAULT</td>\n",
       "      <td>CRIMINAL SEXUAL ASSAULT</td>\n",
       "    </tr>\n",
       "    <tr>\n",
       "      <th>description</th>\n",
       "      <td>PREDATORY</td>\n",
       "      <td>NON-AGGRAVATED</td>\n",
       "    </tr>\n",
       "    <tr>\n",
       "      <th>location_description</th>\n",
       "      <td>HOTEL/MOTEL</td>\n",
       "      <td>HOTEL / MOTEL</td>\n",
       "    </tr>\n",
       "    <tr>\n",
       "      <th>arrest</th>\n",
       "      <td>False</td>\n",
       "      <td>False</td>\n",
       "    </tr>\n",
       "    <tr>\n",
       "      <th>domestic</th>\n",
       "      <td>False</td>\n",
       "      <td>False</td>\n",
       "    </tr>\n",
       "    <tr>\n",
       "      <th>beat</th>\n",
       "      <td>111</td>\n",
       "      <td>111</td>\n",
       "    </tr>\n",
       "    <tr>\n",
       "      <th>district</th>\n",
       "      <td>1</td>\n",
       "      <td>1</td>\n",
       "    </tr>\n",
       "    <tr>\n",
       "      <th>ward</th>\n",
       "      <td>42</td>\n",
       "      <td>42</td>\n",
       "    </tr>\n",
       "    <tr>\n",
       "      <th>community_area</th>\n",
       "      <td>32</td>\n",
       "      <td>32</td>\n",
       "    </tr>\n",
       "    <tr>\n",
       "      <th>fbi_code</th>\n",
       "      <td>02</td>\n",
       "      <td>02</td>\n",
       "    </tr>\n",
       "    <tr>\n",
       "      <th>x_coordinate</th>\n",
       "      <td>NaN</td>\n",
       "      <td>1176327.0</td>\n",
       "    </tr>\n",
       "    <tr>\n",
       "      <th>y_coordinate</th>\n",
       "      <td>NaN</td>\n",
       "      <td>1901797.0</td>\n",
       "    </tr>\n",
       "    <tr>\n",
       "      <th>year</th>\n",
       "      <td>2017</td>\n",
       "      <td>2022</td>\n",
       "    </tr>\n",
       "    <tr>\n",
       "      <th>updated_on</th>\n",
       "      <td>2018-03-14 15:54:52+00:00</td>\n",
       "      <td>2023-01-03 15:40:27+00:00</td>\n",
       "    </tr>\n",
       "    <tr>\n",
       "      <th>latitude</th>\n",
       "      <td>NaN</td>\n",
       "      <td>41.885888</td>\n",
       "    </tr>\n",
       "    <tr>\n",
       "      <th>longitude</th>\n",
       "      <td>NaN</td>\n",
       "      <td>-87.627942</td>\n",
       "    </tr>\n",
       "    <tr>\n",
       "      <th>location</th>\n",
       "      <td>None</td>\n",
       "      <td>(41.885888079, -87.627942238)</td>\n",
       "    </tr>\n",
       "  </tbody>\n",
       "</table>\n",
       "</div>"
      ],
      "text/plain": [
       "                                              0                              1\n",
       "unique_key                             11255648                       12751265\n",
       "case_number                            JB184373                       JF305556\n",
       "date                  2017-04-04 00:00:00+00:00      2022-07-04 20:00:00+00:00\n",
       "block                      003XX N MICHIGAN AVE               002XX N STATE ST\n",
       "iucr                                       0266                           0281\n",
       "primary_type                CRIM SEXUAL ASSAULT        CRIMINAL SEXUAL ASSAULT\n",
       "description                           PREDATORY                 NON-AGGRAVATED\n",
       "location_description                HOTEL/MOTEL                  HOTEL / MOTEL\n",
       "arrest                                    False                          False\n",
       "domestic                                  False                          False\n",
       "beat                                        111                            111\n",
       "district                                      1                              1\n",
       "ward                                         42                             42\n",
       "community_area                               32                             32\n",
       "fbi_code                                     02                             02\n",
       "x_coordinate                                NaN                      1176327.0\n",
       "y_coordinate                                NaN                      1901797.0\n",
       "year                                       2017                           2022\n",
       "updated_on            2018-03-14 15:54:52+00:00      2023-01-03 15:40:27+00:00\n",
       "latitude                                    NaN                      41.885888\n",
       "longitude                                   NaN                     -87.627942\n",
       "location                                   None  (41.885888079, -87.627942238)"
      ]
     },
     "execution_count": 12,
     "metadata": {},
     "output_type": "execute_result"
    }
   ],
   "source": [
    "# Scratch space for your code\n",
    "client.list_rows(table, max_results = 2).to_dataframe().T"
   ]
  },
  {
   "cell_type": "markdown",
   "id": "4635d8d0",
   "metadata": {
    "papermill": {
     "duration": 0.009522,
     "end_time": "2024-09-29T12:45:25.959147",
     "exception": false,
     "start_time": "2024-09-29T12:45:25.949625",
     "status": "completed"
    },
    "tags": []
   },
   "source": [
    "# Keep going\n",
    "\n",
    "You've looked at the schema, but you haven't yet done anything exciting with the data itself. Things get more interesting when you get to the data, so keep going to **[write your first SQL query](https://www.kaggle.com/dansbecker/select-from-where).**"
   ]
  },
  {
   "cell_type": "markdown",
   "id": "0e5a1464",
   "metadata": {
    "papermill": {
     "duration": 0.009315,
     "end_time": "2024-09-29T12:45:25.977995",
     "exception": false,
     "start_time": "2024-09-29T12:45:25.968680",
     "status": "completed"
    },
    "tags": []
   },
   "source": [
    "---\n",
    "\n",
    "\n",
    "\n",
    "\n",
    "*Have questions or comments? Visit the [course discussion forum](https://www.kaggle.com/learn/intro-to-sql/discussion) to chat with other learners.*"
   ]
  }
 ],
 "metadata": {
  "kaggle": {
   "accelerator": "none",
   "dataSources": [
    {
     "datasetId": 22090,
     "sourceId": 28376,
     "sourceType": "datasetVersion"
    },
    {
     "datasetId": 6057,
     "sourceId": 285982,
     "sourceType": "datasetVersion"
    }
   ],
   "isGpuEnabled": false,
   "isInternetEnabled": false,
   "language": "python",
   "sourceType": "notebook"
  },
  "kernelspec": {
   "display_name": "Python 3",
   "language": "python",
   "name": "python3"
  },
  "language_info": {
   "codemirror_mode": {
    "name": "ipython",
    "version": 3
   },
   "file_extension": ".py",
   "mimetype": "text/x-python",
   "name": "python",
   "nbconvert_exporter": "python",
   "pygments_lexer": "ipython3",
   "version": "3.10.14"
  },
  "papermill": {
   "default_parameters": {},
   "duration": 13.607703,
   "end_time": "2024-09-29T12:45:26.811978",
   "environment_variables": {},
   "exception": null,
   "input_path": "__notebook__.ipynb",
   "output_path": "__notebook__.ipynb",
   "parameters": {},
   "start_time": "2024-09-29T12:45:13.204275",
   "version": "2.6.0"
  }
 },
 "nbformat": 4,
 "nbformat_minor": 5
}
